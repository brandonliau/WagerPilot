{
 "cells": [
  {
   "cell_type": "code",
   "execution_count": null,
   "metadata": {},
   "outputs": [],
   "source": [
    "import utils as util\n",
    "from pprint import pprint\n",
    "# Test utils\n",
    "pprint(util.sportsAPI())\n",
    "pprint(util.eventsAPI('americanfootball_nfl')) # Requires Active API Key\n",
    "pprint(util.keyUsage('478fee21a885b005284c5d94640cceb2'))\n",
    "print(util.div(1, None))\n",
    "util.writeToJson(util.sportsAPI(), 'sports.json')\n",
    "pprint(util.readFromJson('sports.json'))"
   ]
  },
  {
   "cell_type": "code",
   "execution_count": null,
   "metadata": {},
   "outputs": [],
   "source": [
    "import odds as odd\n",
    "# Convert odds\n",
    "odds = '5/2'\n",
    "print(f'Decimal Odds: {odd.toDecimal(odds)}')\n",
    "print(f'American Odds: {odd.toAmerican(odds)}')\n",
    "print(f'Fractional Odds: {odd.toFractional(odds)}')"
   ]
  },
  {
   "cell_type": "code",
   "execution_count": null,
   "metadata": {},
   "outputs": [],
   "source": [
    "import payout as pay\n",
    "# Calculate parlay odds, payout, and profit\n",
    "odds = [+750, -145, +155, -130, -560]\n",
    "parlayOdd = odd.parlayOdds(odds)\n",
    "parlayPayout = pay.payout(100, parlayOdd)\n",
    "parlayProfit = pay.profit(100, parlayOdd)\n",
    "print(f'Overall Parlay Odds: {round(parlayOdd, 2)}')\n",
    "print(f'Parlay Payout: ${round(parlayPayout, 2)}')\n",
    "print(f'Overall Profit: ${round(parlayProfit, 2)}')"
   ]
  },
  {
   "cell_type": "code",
   "execution_count": null,
   "metadata": {},
   "outputs": [],
   "source": [
    "import odds as odd\n",
    "# Calculate implied probability and vig\n",
    "odds = '4/1'\n",
    "homeOdds, awayOdds, drawOdds = 5.88, 1.27, None\n",
    "impliedProb = round(odd.impliedProbability(odds) * 100, 2)\n",
    "totalImpliedProb = round(odd.totalImpliedProbability(homeOdds, awayOdds, drawOdds) * 100, 2)\n",
    "vig = round(odd.vig(homeOdds, awayOdds, drawOdds) * 100, 2)\n",
    "print(f'Implied Probability: {impliedProb}%')\n",
    "print(f'Total Implied Probability: {totalImpliedProb}%')\n",
    "print(f'Vig: {vig}%')"
   ]
  },
  {
   "cell_type": "code",
   "execution_count": null,
   "metadata": {},
   "outputs": [],
   "source": [
    "import odds as odd\n",
    "# Calculate true probability\n",
    "homeOdds, awayOdds, drawOdds = 5.88, 1.27, None\n",
    "trueProb = odd.trueProability(homeOdds, awayOdds, drawOdds)\n",
    "homeTrue = round(trueProb['homeTrue'] * 100, 2)\n",
    "awayTrue = round(trueProb['awayTrue'] * 100, 2)\n",
    "drawTrue = round(trueProb['drawTrue'] * 100, 2)\n",
    "print(f'True Home Win Proability: {homeTrue}%')\n",
    "print(f'True Away Win Proability: {awayTrue}%')\n",
    "print(f'True Draw Proability: {drawTrue}%')"
   ]
  },
  {
   "cell_type": "code",
   "execution_count": null,
   "metadata": {},
   "outputs": [],
   "source": [
    "import odds as odd\n",
    "# Calculate fair odds\n",
    "homeOdds, awayOdds, drawOdds = 5.88, 1.27, None\n",
    "fairOdds = odd.fairOdds(homeOdds, awayOdds, drawOdds)\n",
    "homeFair = round(fairOdds['homeFair'], 2)\n",
    "awayFair = round(fairOdds['awayFair'], 2)\n",
    "drawFair = round(fairOdds['drawFair'], 2)\n",
    "print(f'Fair Home Odds: {homeFair}')\n",
    "print(f'Fair Away Odds: {awayFair}')\n",
    "print(f'Fair Draw Odds: {drawFair}')"
   ]
  },
  {
   "cell_type": "code",
   "execution_count": null,
   "metadata": {},
   "outputs": [],
   "source": [
    "import payout as pay\n",
    "# Calculate expected value\n",
    "homeOdds, awayOdds, drawOdds = 5.88, 1.27, None\n",
    "wager = 100\n",
    "expectedValue = round(pay.expectedValue('home', homeOdds, awayOdds, drawOdds) * wager, 2)\n",
    "print(f'You will win ${expectedValue} for every ${wager} wagered')"
   ]
  },
  {
   "cell_type": "code",
   "execution_count": null,
   "metadata": {},
   "outputs": [],
   "source": [
    "import getData as get\n",
    "from pprint import pprint\n",
    "# Get sports and active events (Requires Active API Key)\n",
    "get.activeSports(writeToFile=True, fileName='activeSports.json')\n",
    "get.activeEvents(writeToFile=True, fileName='activeEvents.json')\n",
    "get.allOdds(writeToFile=True, fileName='allOdds.json')\n",
    "get.bestOdds(writeToFile=True, fileName='bestOdds.json')\n",
    "pprint(get.eventOdds('allOdds.json', '4a83f47255a6921333f17adc097ba093'))"
   ]
  },
  {
   "cell_type": "code",
   "execution_count": null,
   "metadata": {},
   "outputs": [],
   "source": [
    "import arbitrage as arb\n",
    "# Test arbitrage\n",
    "arb.findArbitrage(readFileName='bestOdds.json', writeToFile=True, writefileName='arbitrage.json')\n",
    "eventID = 'f683a81456b6096585c5ce093e9addc0'\n",
    "stake = 100\n",
    "bias = None\n",
    "fileName = 'bestOdds.json'\n",
    "arbStake = arb.arbitrageStake(eventID, stake, bias, fileName)\n",
    "team = list(arbStake.keys())\n",
    "print(f\"Wager ${arbStake[team[0]]} on {team[0]}\")\n",
    "print(f\"Wager ${arbStake[team[1]]} on {team[1]}\")\n",
    "print(f\"Wager ${arbStake[team[2]]} on {team[2]}\")"
   ]
  },
  {
   "cell_type": "code",
   "execution_count": null,
   "metadata": {},
   "outputs": [],
   "source": [
    "import payout as pay\n",
    "# Calculate arbitrage payout and profit\n",
    "eventID = 'f683a81456b6096585c5ce093e9addc0'\n",
    "stake = 100\n",
    "bias = None\n",
    "fileName = 'bestOdds.json'\n",
    "team = list(arbStake.keys())\n",
    "arbPayout = pay.arbitragePayout(eventID, stake, bias, fileName)\n",
    "arbProfit = pay.arbitrageProfit(eventID, stake, bias, fileName)\n",
    "print(f'If {team[0]} wins, the payout will be ${arbPayout[team[0]]}')\n",
    "print(f'If {team[1]} wins, the payout will be ${arbPayout[team[1]]}')\n",
    "print(f'If a draw occurs, the payout will be ${arbPayout[team[2]]}')\n",
    "print(f'If {team[0]} wins, the profit will be ${arbProfit[team[0]]}')\n",
    "print(f'If {team[1]} wins, the profit will be ${arbProfit[team[1]]}')\n",
    "print(f'If a draw occurs, the profit will be ${arbProfit[team[2]]}')"
   ]
  },
  {
   "cell_type": "code",
   "execution_count": null,
   "metadata": {},
   "outputs": [],
   "source": [
    "import bankroll as bank\n",
    "# Test bankroll\n",
    "bankroll = 1000\n",
    "odds = 1.27\n",
    "mariaWager = bank.mariaStaking(bankroll, odds)\n",
    "confidence = 0.8224\n",
    "kellyMultiplier = 1\n",
    "kellyWager = bank.kellyCriterion(bankroll, odds, confidence, kellyMultiplier)\n",
    "print(f'Wager: ${mariaWager}')\n",
    "print(f'Wager: ${kellyWager}')"
   ]
  }
 ],
 "metadata": {
  "kernelspec": {
   "display_name": "WagerPilot",
   "language": "python",
   "name": "python3"
  },
  "language_info": {
   "codemirror_mode": {
    "name": "ipython",
    "version": 3
   },
   "file_extension": ".py",
   "mimetype": "text/x-python",
   "name": "python",
   "nbconvert_exporter": "python",
   "pygments_lexer": "ipython3",
   "version": "3.11.3"
  },
  "orig_nbformat": 4
 },
 "nbformat": 4,
 "nbformat_minor": 2
}
