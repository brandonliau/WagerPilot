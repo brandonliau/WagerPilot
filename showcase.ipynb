{
 "cells": [
  {
   "cell_type": "code",
   "execution_count": null,
   "metadata": {},
   "outputs": [],
   "source": [
    "import utils as util\n",
    "from pprint import pprint\n",
    "# Test utils\n",
    "pprint(util.sportsAPI())\n",
    "pprint(util.eventsAPI('americanfootball_nfl')) # Requires Active API Key\n",
    "pprint(util.keyUsage('478fee21a885b005284c5d94640cceb2'))\n",
    "print(util.div(1, None))\n",
    "util.writeToJson(util.sportsAPI(), 'sports.json')\n",
    "pprint(util.readFromJson('sports.json'))"
   ]
  },
  {
   "cell_type": "code",
   "execution_count": 4,
   "metadata": {},
   "outputs": [
    {
     "name": "stdout",
     "output_type": "stream",
     "text": [
      "Decimal Odds: 1.2369668246445498\n",
      "American Odds: -422\n",
      "Fractional Odds: -4751297606875873/1125899906842624\n"
     ]
    }
   ],
   "source": [
    "import odds as odd\n",
    "# Convert odds\n",
    "odds = -422\n",
    "print(f'Decimal Odds: {odd.toDecimal(odds)}')\n",
    "print(f'American Odds: {odd.toAmerican(odds)}')\n",
    "print(f'Fractional Odds: {odd.toFractional(odds)}')"
   ]
  },
  {
   "cell_type": "code",
   "execution_count": null,
   "metadata": {},
   "outputs": [],
   "source": [
    "import payout as pay\n",
    "# Calculate parlay odds, payout, and profit\n",
    "odds = [+750, -145, +155, -130, -560]\n",
    "parlayOdd = odd.parlayOdds(odds)\n",
    "parlayPayout = pay.payout(100, parlayOdd)\n",
    "parlayProfit = pay.profit(100, parlayOdd)\n",
    "print(f'Overall Parlay Odds: {round(parlayOdd, 2)}')\n",
    "print(f'Parlay Payout: ${round(parlayPayout, 2)}')\n",
    "print(f'Overall Profit: ${round(parlayProfit, 2)}')"
   ]
  },
  {
   "cell_type": "code",
   "execution_count": 3,
   "metadata": {},
   "outputs": [
    {
     "name": "stdout",
     "output_type": "stream",
     "text": [
      "Implied Probability: 14.53%\n",
      "Total Implied Probability: 100.43%\n",
      "Vig: 0.43%\n"
     ]
    }
   ],
   "source": [
    "import odds as odd\n",
    "# Calculate implied probability and vig\n",
    "odds = '5.88'\n",
    "homeOdds, awayOdds, drawOdds = +375, -385, None\n",
    "impliedProb = round(odd.impliedProbability(odds) * 100, 2)\n",
    "totalImpliedProb = round(odd.totalImpliedProbability(homeOdds, awayOdds, drawOdds) * 100, 2)\n",
    "vig = round(odd.vig(homeOdds, awayOdds, drawOdds) * 100, 2)\n",
    "print(f'Implied Probability: {impliedProb}%')\n",
    "print(f'Total Implied Probability: {totalImpliedProb}%')\n",
    "print(f'Vig: {vig}%')"
   ]
  },
  {
   "cell_type": "code",
   "execution_count": 1,
   "metadata": {},
   "outputs": [
    {
     "name": "stdout",
     "output_type": "stream",
     "text": [
      "True Home Win Proability: 77.04%\n",
      "True Away Win Proability: 22.96%\n",
      "True Draw Proability: 0.0%\n"
     ]
    }
   ],
   "source": [
    "import odds as odd\n",
    "# Calculate true probability\n",
    "homeOdds, awayOdds, drawOdds = -422, +315, None\n",
    "trueProb = odd.trueProability(homeOdds, awayOdds, drawOdds)\n",
    "homeTrue = round(trueProb['homeTrue'] * 100, 2)\n",
    "awayTrue = round(trueProb['awayTrue'] * 100, 2)\n",
    "drawTrue = round(trueProb['drawTrue'] * 100, 2)\n",
    "print(f'True Home Win Proability: {homeTrue}%')\n",
    "print(f'True Away Win Proability: {awayTrue}%')\n",
    "print(f'True Draw Proability: {drawTrue}%')"
   ]
  },
  {
   "cell_type": "code",
   "execution_count": 3,
   "metadata": {},
   "outputs": [
    {
     "name": "stdout",
     "output_type": "stream",
     "text": [
      "Fair Home Odds: 1.3\n",
      "Fair Away Odds: 4.35\n",
      "Fair Draw Odds: 0\n"
     ]
    }
   ],
   "source": [
    "import odds as odd\n",
    "# Calculate fair odds\n",
    "homeOdds, awayOdds, drawOdds = -422, +315, None\n",
    "fairOdds = odd.fairOdds(homeOdds, awayOdds, drawOdds)\n",
    "homeFair = round(fairOdds['homeFair'], 2)\n",
    "awayFair = round(fairOdds['awayFair'], 2)\n",
    "drawFair = round(fairOdds['drawFair'], 2)\n",
    "print(f'Fair Home Odds: {homeFair}')\n",
    "print(f'Fair Away Odds: {awayFair}')\n",
    "print(f'Fair Draw Odds: {drawFair}')"
   ]
  },
  {
   "cell_type": "code",
   "execution_count": 1,
   "metadata": {},
   "outputs": [
    {
     "name": "stdout",
     "output_type": "stream",
     "text": [
      "0.35399565427329793\n",
      "1.7799999999999998\n",
      "0.6301122646064703\n",
      "0.6460043457267021\n",
      "You will win $-0.79 for every $50 wagered\n"
     ]
    }
   ],
   "source": [
    "import payout as pay\n",
    "# Calculate expected value\n",
    "homeOdds, awayOdds, drawOdds = 2.76, 2.78, 3.4\n",
    "wager = 50\n",
    "expectedValue = round(pay.expectedValue('away', homeOdds, awayOdds, drawOdds) * wager, 2)\n",
    "print(f'You will win ${expectedValue} for every ${wager} wagered')"
   ]
  },
  {
   "cell_type": "code",
   "execution_count": null,
   "metadata": {},
   "outputs": [],
   "source": [
    "import getData as get\n",
    "from pprint import pprint\n",
    "# Get sports and active events (Requires Active API Key)\n",
    "get.activeSports(writeToFile=True, fileName='activeSports.json')\n",
    "get.activeEvents(writeToFile=True, fileName='activeEvents.json')\n",
    "get.allOdds(writeToFile=True, fileName='allOdds.json')\n",
    "get.bestOdds(writeToFile=True, fileName='bestOdds.json')\n",
    "pprint(get.eventOdds('allOdds.json', '4a83f47255a6921333f17adc097ba093'))"
   ]
  },
  {
   "cell_type": "code",
   "execution_count": null,
   "metadata": {},
   "outputs": [],
   "source": [
    "import arbitrage as arb\n",
    "# Test arbitrage\n",
    "arb.findArbitrage(readFileName='bestOdds.json', writeToFile=True, writefileName='arbitrage.json')\n",
    "eventID = 'f683a81456b6096585c5ce093e9addc0'\n",
    "stake = 100\n",
    "bias = None\n",
    "fileName = 'bestOdds.json'\n",
    "arbStake = arb.arbitrageStake(eventID, stake, bias, fileName)\n",
    "team = list(arbStake.keys())\n",
    "print(f\"Wager ${arbStake[team[0]]} on {team[0]}\")\n",
    "print(f\"Wager ${arbStake[team[1]]} on {team[1]}\")\n",
    "print(f\"Wager ${arbStake[team[2]]} on {team[2]}\")"
   ]
  },
  {
   "cell_type": "code",
   "execution_count": null,
   "metadata": {},
   "outputs": [],
   "source": [
    "import payout as pay\n",
    "# Calculate arbitrage payout and profit\n",
    "eventID = 'f683a81456b6096585c5ce093e9addc0'\n",
    "stake = 100\n",
    "bias = None\n",
    "fileName = 'bestOdds.json'\n",
    "team = list(arbStake.keys())\n",
    "arbPayout = pay.arbitragePayout(eventID, stake, bias, fileName)\n",
    "arbProfit = pay.arbitrageProfit(eventID, stake, bias, fileName)\n",
    "print(f'If {team[0]} wins, the payout will be ${arbPayout[team[0]]}')\n",
    "print(f'If {team[1]} wins, the payout will be ${arbPayout[team[1]]}')\n",
    "print(f'If a draw occurs, the payout will be ${arbPayout[team[2]]}')\n",
    "print(f'If {team[0]} wins, the profit will be ${arbProfit[team[0]]}')\n",
    "print(f'If {team[1]} wins, the profit will be ${arbProfit[team[1]]}')\n",
    "print(f'If a draw occurs, the profit will be ${arbProfit[team[2]]}')"
   ]
  },
  {
   "cell_type": "code",
   "execution_count": null,
   "metadata": {},
   "outputs": [],
   "source": [
    "import bankroll as bank\n",
    "# Test bankroll\n",
    "bankroll = 1000\n",
    "odds = 1.27\n",
    "mariaWager = bank.mariaStaking(bankroll, odds)\n",
    "confidence = 0.8224\n",
    "kellyMultiplier = 1\n",
    "kellyWager = bank.kellyCriterion(bankroll, odds, confidence, kellyMultiplier)\n",
    "print(f'Maria Wager: ${mariaWager}')\n",
    "print(f'Kelly Wager: ${kellyWager}')"
   ]
  },
  {
   "cell_type": "code",
   "execution_count": null,
   "metadata": {},
   "outputs": [],
   "source": [
    "import pandas as pd\n",
    "# Display arbitrage opportunities\n",
    "df = pd.read_json('arbitrage.json')\n",
    "df = df.transpose()\n",
    "df = df.iloc[:, [0,1,2,3,4,5,6,8,7,9]]\n",
    "pd.set_option('display.max_rows', None)\n",
    "df = df.sort_values(by = ['impliedProbability'])\n",
    "display(df)"
   ]
  }
 ],
 "metadata": {
  "kernelspec": {
   "display_name": "WagerPilot",
   "language": "python",
   "name": "python3"
  },
  "language_info": {
   "codemirror_mode": {
    "name": "ipython",
    "version": 3
   },
   "file_extension": ".py",
   "mimetype": "text/x-python",
   "name": "python",
   "nbconvert_exporter": "python",
   "pygments_lexer": "ipython3",
   "version": "3.11.3"
  },
  "orig_nbformat": 4
 },
 "nbformat": 4,
 "nbformat_minor": 2
}
