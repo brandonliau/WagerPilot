{
 "cells": [
  {
   "cell_type": "code",
   "execution_count": null,
   "metadata": {},
   "outputs": [],
   "source": [
    "import pandas as pd\n",
    "from pprint import pprint\n",
    "\n",
    "# pd.set_option('display.max_rows', None)\n",
    "%load_ext autoreload\n",
    "%autoreload 2"
   ]
  },
  {
   "cell_type": "code",
   "execution_count": null,
   "metadata": {},
   "outputs": [],
   "source": [
    "from wagerpilot.tools.config_utils import Config\n",
    "\n",
    "config = Config()\n",
    "await config.load_config('config.yml')\n",
    "pprint(config.tokens[:3])\n",
    "pprint(config.tokens[-3:])"
   ]
  },
  {
   "cell_type": "code",
   "execution_count": null,
   "metadata": {},
   "outputs": [],
   "source": [
    "from wagerpilot.tools.api_utils import get_sports\n",
    "\n",
    "sports = get_sports(config)\n",
    "for sport in sports:\n",
    "    print(sport)"
   ]
  },
  {
   "cell_type": "code",
   "execution_count": null,
   "metadata": {},
   "outputs": [],
   "source": [
    "# For displaying output of individual sport\n",
    "\n",
    "from wagerpilot.tools.api_utils import get_events\n",
    "from wagerpilot.core.h2h import process_h2h_data\n",
    "\n",
    "data = get_events(config, 'americanfootball_nfl', 'h2h')\n",
    "events_df, odds_df = process_h2h_data(data)\n",
    "\n",
    "print(data)\n",
    "display(events_df)\n",
    "display(odds_df)"
   ]
  },
  {
   "cell_type": "code",
   "execution_count": null,
   "metadata": {},
   "outputs": [],
   "source": [
    "from wagerpilot.tools.api_utils import get_sports\n",
    "from wagerpilot.core.h2h import get_all_h2h_data\n",
    "\n",
    "sports = get_sports(config)\n",
    "h2h_data = get_all_h2h_data(config, sports)"
   ]
  },
  {
   "cell_type": "code",
   "execution_count": null,
   "metadata": {},
   "outputs": [],
   "source": [
    "arb_events = pd.DataFrame()\n",
    "for event_df, _ in h2h_data.values():\n",
    "    temp = event_df[event_df['arbitrage'] == True]\n",
    "    arb_events = pd.concat([arb_events, temp], ignore_index=True)\n",
    "arb_events = arb_events.dropna(axis=1, how='all')\n",
    "\n",
    "if arb_events.empty:\n",
    "    print(\"No arbitrage events found!\")\n",
    "else:\n",
    "    display(arb_events)"
   ]
  },
  {
   "cell_type": "code",
   "execution_count": null,
   "metadata": {},
   "outputs": [],
   "source": [
    "for sport in h2h_data.keys():\n",
    "    print(sport)"
   ]
  },
  {
   "cell_type": "code",
   "execution_count": null,
   "metadata": {},
   "outputs": [],
   "source": [
    "display(h2h_data['icehockey_nhl'][0])\n",
    "display(h2h_data['icehockey_nhl'][1])"
   ]
  }
 ],
 "metadata": {
  "kernelspec": {
   "display_name": "WagerPilot",
   "language": "python",
   "name": "python3"
  },
  "language_info": {
   "codemirror_mode": {
    "name": "ipython",
    "version": 3
   },
   "file_extension": ".py",
   "mimetype": "text/x-python",
   "name": "python",
   "nbconvert_exporter": "python",
   "pygments_lexer": "ipython3",
   "version": "3.12.6"
  }
 },
 "nbformat": 4,
 "nbformat_minor": 2
}
