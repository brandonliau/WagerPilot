{
 "cells": [
  {
   "cell_type": "code",
   "execution_count": 1,
   "metadata": {},
   "outputs": [],
   "source": [
    "import pandas as pd\n",
    "from pprint import pprint\n",
    "\n",
    "%load_ext autoreload\n",
    "%autoreload 2\n",
    "pd.set_option('display.max_rows', None)"
   ]
  },
  {
   "cell_type": "code",
   "execution_count": null,
   "metadata": {},
   "outputs": [],
   "source": [
    "from wagerpilot.tools.config_utils import Config\n",
    "\n",
    "config = Config()\n",
    "await config.load_config('config.yml')\n",
    "pprint(config.tokens[:10])\n",
    "pprint(config.tokens[-10:])"
   ]
  },
  {
   "cell_type": "code",
   "execution_count": null,
   "metadata": {},
   "outputs": [],
   "source": [
    "sports = config.get_sports()\n",
    "for sport in sports:\n",
    "    print(sport)"
   ]
  },
  {
   "cell_type": "code",
   "execution_count": 55,
   "metadata": {},
   "outputs": [],
   "source": [
    "from wagerpilot.core.process import process_h2h_data\n",
    "\n",
    "data = config.get_events('basketball_nba', 'h2h')\n",
    "event_df, bookie_df = process_h2h_data(data)\n",
    "display(event_df)\n",
    "display(bookie_df)"
   ]
  },
  {
   "cell_type": "code",
   "execution_count": null,
   "metadata": {},
   "outputs": [],
   "source": [
    "from wagerpilot.core.process import process_h2h_data\n",
    "\n",
    "all_data = []\n",
    "for sport in sports:\n",
    "    raw = config.get_events(sport['key'], 'h2h')\n",
    "    if raw:\n",
    "        data = process_h2h_data(raw)\n",
    "        if not data[0].empty:\n",
    "            print(raw)\n",
    "            all_data.append(data)\n",
    "        else:\n",
    "            print(f\"Empty DataFrame : {raw}\")\n",
    "    else:\n",
    "        print(f\"Invalid parameter combination : ['sport_key': {sport['key']}, 'market': 'h2h']\")"
   ]
  },
  {
   "cell_type": "code",
   "execution_count": null,
   "metadata": {},
   "outputs": [],
   "source": [
    "display(all_data[1][0]) # event data\n",
    "display(all_data[1][1]) # bookie data"
   ]
  },
  {
   "cell_type": "code",
   "execution_count": null,
   "metadata": {},
   "outputs": [],
   "source": [
    "arb_events = pd.DataFrame()\n",
    "for df, _ in all_data:\n",
    "    temp = df[df['arbitrage'] == True]\n",
    "    arb_events = pd.concat([arb_events, temp], ignore_index=True)\n",
    "\n",
    "arb_events"
   ]
  },
  {
   "cell_type": "code",
   "execution_count": null,
   "metadata": {},
   "outputs": [],
   "source": [
    "from wagerpilot.betting.odds import toAmerican\n",
    "\n",
    "print(toAmerican(31.0))\n",
    "print(toAmerican(1.19))"
   ]
  },
  {
   "cell_type": "code",
   "execution_count": null,
   "metadata": {},
   "outputs": [],
   "source": []
  }
 ],
 "metadata": {
  "kernelspec": {
   "display_name": "WagerPilot",
   "language": "python",
   "name": "python3"
  },
  "language_info": {
   "codemirror_mode": {
    "name": "ipython",
    "version": 3
   },
   "file_extension": ".py",
   "mimetype": "text/x-python",
   "name": "python",
   "nbconvert_exporter": "python",
   "pygments_lexer": "ipython3",
   "version": "3.12.6"
  }
 },
 "nbformat": 4,
 "nbformat_minor": 2
}
