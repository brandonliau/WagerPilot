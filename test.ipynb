{
 "cells": [
  {
   "cell_type": "code",
   "execution_count": 1,
   "metadata": {},
   "outputs": [],
   "source": [
    "%load_ext autoreload\n",
    "%autoreload 2\n",
    "\n",
    "from pprint import pprint"
   ]
  },
  {
   "cell_type": "code",
   "execution_count": 2,
   "metadata": {},
   "outputs": [
    {
     "name": "stdout",
     "output_type": "stream",
     "text": [
      "[('e2c9971c4b4a935b6e458a930bac9676', 500),\n",
      " ('cb465c10df41ed4c8015347cb089445c', 500),\n",
      " ('e3ed86c3f1077994831841d074d54b4a', 500),\n",
      " ('61db6e18ff134474f86f40a56fd192a5', 500),\n",
      " ('92bc15adee8440836a5ddd78996d9306', 499),\n",
      " ('2b8ae3005a2407fdd3611f7b5583e341', 497),\n",
      " ('037408a3229af1f5d4807703d7ff4f2a', 497),\n",
      " ('028069f0db5091a5b83dbab2df98b341', 497),\n",
      " ('013c4409a3d7f7cdd33d3ad203d2721e', 493),\n",
      " ('82f0e309d28946520c3794b7aab35889', 486)]\n"
     ]
    }
   ],
   "source": [
    "from wagerpilot.tools.config_utils import Config\n",
    "\n",
    "config = Config()\n",
    "config.load_config('config.yml')\n",
    "pprint(config.tokens[-10:])"
   ]
  },
  {
   "cell_type": "code",
   "execution_count": 3,
   "metadata": {},
   "outputs": [
    {
     "name": "stdout",
     "output_type": "stream",
     "text": [
      "[('e2c9971c4b4a935b6e458a930bac9676', 500),\n",
      " ('cb465c10df41ed4c8015347cb089445c', 500),\n",
      " ('e3ed86c3f1077994831841d074d54b4a', 500),\n",
      " ('61db6e18ff134474f86f40a56fd192a5', 500),\n",
      " ('92bc15adee8440836a5ddd78996d9306', 499),\n",
      " ('2b8ae3005a2407fdd3611f7b5583e341', 497),\n",
      " ('037408a3229af1f5d4807703d7ff4f2a', 497),\n",
      " ('028069f0db5091a5b83dbab2df98b341', 497),\n",
      " ('013c4409a3d7f7cdd33d3ad203d2721e', 493),\n",
      " ('82f0e309d28946520c3794b7aab35889', 486)]\n"
     ]
    }
   ],
   "source": [
    "await config.sync_usage()\n",
    "config.save_config('config.yml')\n",
    "pprint(config.tokens[-10:])"
   ]
  },
  {
   "cell_type": "code",
   "execution_count": 4,
   "metadata": {},
   "outputs": [
    {
     "name": "stdout",
     "output_type": "stream",
     "text": [
      "[{'away_team': 'New York Yankees',\n",
      "  'bookmakers': [{'key': 'espnbet',\n",
      "                  'last_update': '2024-10-27T02:52:44Z',\n",
      "                  'markets': [{'key': 'h2h',\n",
      "                               'last_update': '2024-10-27T02:52:44Z',\n",
      "                               'outcomes': [{'name': 'Los Angeles Dodgers',\n",
      "                                             'price': 1.03},\n",
      "                                            {'name': 'New York Yankees',\n",
      "                                             'price': 11.0}]}],\n",
      "                  'title': 'ESPN BET'},\n",
      "                 {'key': 'draftkings',\n",
      "                  'last_update': '2024-10-27T02:52:43Z',\n",
      "                  'markets': [{'key': 'h2h',\n",
      "                               'last_update': '2024-10-27T02:52:43Z',\n",
      "                               'outcomes': [{'name': 'Los Angeles Dodgers',\n",
      "                                             'price': 1.03},\n",
      "                                            {'name': 'New York Yankees',\n",
      "                                             'price': 12.0}]}],\n",
      "                  'title': 'DraftKings'},\n",
      "                 {'key': 'williamhill_us',\n",
      "                  'last_update': '2024-10-27T02:51:11Z',\n",
      "                  'markets': [{'key': 'h2h',\n",
      "                               'last_update': '2024-10-27T02:51:11Z',\n",
      "                               'outcomes': [{'name': 'Los Angeles Dodgers',\n",
      "                                             'price': 1.01},\n",
      "                                            {'name': 'New York Yankees',\n",
      "                                             'price': 23.0}]}],\n",
      "                  'title': 'Caesars'},\n",
      "                 {'key': 'betmgm',\n",
      "                  'last_update': '2024-10-27T02:52:44Z',\n",
      "                  'markets': [{'key': 'h2h',\n",
      "                               'last_update': '2024-10-27T02:52:44Z',\n",
      "                               'outcomes': [{'name': 'Los Angeles Dodgers',\n",
      "                                             'price': 1.04},\n",
      "                                            {'name': 'New York Yankees',\n",
      "                                             'price': 11.0}]}],\n",
      "                  'title': 'BetMGM'},\n",
      "                 {'key': 'hardrockbet',\n",
      "                  'last_update': '2024-10-27T02:52:45Z',\n",
      "                  'markets': [{'key': 'h2h',\n",
      "                               'last_update': '2024-10-27T02:52:45Z',\n",
      "                               'outcomes': [{'name': 'Los Angeles Dodgers',\n",
      "                                             'price': 1.04},\n",
      "                                            {'name': 'New York Yankees',\n",
      "                                             'price': 11.0}]}],\n",
      "                  'title': 'Hard Rock Bet'}],\n",
      "  'commence_time': '2024-10-27T00:14:00Z',\n",
      "  'home_team': 'Los Angeles Dodgers',\n",
      "  'id': 'e91d98d0971a5078121876bb9e5193f1',\n",
      "  'sport_key': 'baseball_mlb',\n",
      "  'sport_title': 'MLB'}]\n"
     ]
    }
   ],
   "source": [
    "data = config.get_events('baseball_mlb', 'h2h')\n",
    "pprint(data)"
   ]
  },
  {
   "cell_type": "code",
   "execution_count": 5,
   "metadata": {},
   "outputs": [],
   "source": [
    "from wagerpilot.core.process import process_h2h_data\n",
    "\n",
    "event_df, bookie_df = process_h2h_data(data)"
   ]
  },
  {
   "cell_type": "code",
   "execution_count": 6,
   "metadata": {},
   "outputs": [
    {
     "data": {
      "text/html": [
       "<div>\n",
       "<style scoped>\n",
       "    .dataframe tbody tr th:only-of-type {\n",
       "        vertical-align: middle;\n",
       "    }\n",
       "\n",
       "    .dataframe tbody tr th {\n",
       "        vertical-align: top;\n",
       "    }\n",
       "\n",
       "    .dataframe thead th {\n",
       "        text-align: right;\n",
       "    }\n",
       "</style>\n",
       "<table border=\"1\" class=\"dataframe\">\n",
       "  <thead>\n",
       "    <tr style=\"text-align: right;\">\n",
       "      <th></th>\n",
       "      <th>event_id</th>\n",
       "      <th>home_team</th>\n",
       "      <th>away_team</th>\n",
       "      <th>min_price</th>\n",
       "      <th>max_price</th>\n",
       "      <th>min_price_bookmaker</th>\n",
       "      <th>max_price_bookmaker</th>\n",
       "      <th>arbitrage</th>\n",
       "    </tr>\n",
       "  </thead>\n",
       "  <tbody>\n",
       "    <tr>\n",
       "      <th>0</th>\n",
       "      <td>e91d98d0971a5078121876bb9e5193f1</td>\n",
       "      <td>Los Angeles Dodgers</td>\n",
       "      <td>New York Yankees</td>\n",
       "      <td>1.01</td>\n",
       "      <td>23.0</td>\n",
       "      <td>[williamhill_us]</td>\n",
       "      <td>[williamhill_us]</td>\n",
       "      <td>False</td>\n",
       "    </tr>\n",
       "  </tbody>\n",
       "</table>\n",
       "</div>"
      ],
      "text/plain": [
       "                           event_id            home_team         away_team  \\\n",
       "0  e91d98d0971a5078121876bb9e5193f1  Los Angeles Dodgers  New York Yankees   \n",
       "\n",
       "   min_price  max_price min_price_bookmaker max_price_bookmaker  arbitrage  \n",
       "0       1.01       23.0    [williamhill_us]    [williamhill_us]      False  "
      ]
     },
     "execution_count": 6,
     "metadata": {},
     "output_type": "execute_result"
    }
   ],
   "source": [
    "event_df"
   ]
  },
  {
   "cell_type": "code",
   "execution_count": 7,
   "metadata": {},
   "outputs": [
    {
     "data": {
      "text/html": [
       "<div>\n",
       "<style scoped>\n",
       "    .dataframe tbody tr th:only-of-type {\n",
       "        vertical-align: middle;\n",
       "    }\n",
       "\n",
       "    .dataframe tbody tr th {\n",
       "        vertical-align: top;\n",
       "    }\n",
       "\n",
       "    .dataframe thead th {\n",
       "        text-align: right;\n",
       "    }\n",
       "</style>\n",
       "<table border=\"1\" class=\"dataframe\">\n",
       "  <thead>\n",
       "    <tr style=\"text-align: right;\">\n",
       "      <th></th>\n",
       "      <th>event_id</th>\n",
       "      <th>bookmaker</th>\n",
       "      <th>home_odds</th>\n",
       "      <th>away_odds</th>\n",
       "    </tr>\n",
       "  </thead>\n",
       "  <tbody>\n",
       "    <tr>\n",
       "      <th>0</th>\n",
       "      <td>e91d98d0971a5078121876bb9e5193f1</td>\n",
       "      <td>espnbet</td>\n",
       "      <td>1.03</td>\n",
       "      <td>11.0</td>\n",
       "    </tr>\n",
       "    <tr>\n",
       "      <th>1</th>\n",
       "      <td>e91d98d0971a5078121876bb9e5193f1</td>\n",
       "      <td>draftkings</td>\n",
       "      <td>1.03</td>\n",
       "      <td>12.0</td>\n",
       "    </tr>\n",
       "    <tr>\n",
       "      <th>2</th>\n",
       "      <td>e91d98d0971a5078121876bb9e5193f1</td>\n",
       "      <td>williamhill_us</td>\n",
       "      <td>1.01</td>\n",
       "      <td>23.0</td>\n",
       "    </tr>\n",
       "    <tr>\n",
       "      <th>3</th>\n",
       "      <td>e91d98d0971a5078121876bb9e5193f1</td>\n",
       "      <td>betmgm</td>\n",
       "      <td>1.04</td>\n",
       "      <td>11.0</td>\n",
       "    </tr>\n",
       "    <tr>\n",
       "      <th>4</th>\n",
       "      <td>e91d98d0971a5078121876bb9e5193f1</td>\n",
       "      <td>hardrockbet</td>\n",
       "      <td>1.04</td>\n",
       "      <td>11.0</td>\n",
       "    </tr>\n",
       "  </tbody>\n",
       "</table>\n",
       "</div>"
      ],
      "text/plain": [
       "                           event_id       bookmaker  home_odds  away_odds\n",
       "0  e91d98d0971a5078121876bb9e5193f1         espnbet       1.03       11.0\n",
       "1  e91d98d0971a5078121876bb9e5193f1      draftkings       1.03       12.0\n",
       "2  e91d98d0971a5078121876bb9e5193f1  williamhill_us       1.01       23.0\n",
       "3  e91d98d0971a5078121876bb9e5193f1          betmgm       1.04       11.0\n",
       "4  e91d98d0971a5078121876bb9e5193f1     hardrockbet       1.04       11.0"
      ]
     },
     "execution_count": 7,
     "metadata": {},
     "output_type": "execute_result"
    }
   ],
   "source": [
    "bookie_df"
   ]
  },
  {
   "cell_type": "code",
   "execution_count": null,
   "metadata": {},
   "outputs": [],
   "source": []
  }
 ],
 "metadata": {
  "kernelspec": {
   "display_name": "WagerPilot",
   "language": "python",
   "name": "python3"
  },
  "language_info": {
   "codemirror_mode": {
    "name": "ipython",
    "version": 3
   },
   "file_extension": ".py",
   "mimetype": "text/x-python",
   "name": "python",
   "nbconvert_exporter": "python",
   "pygments_lexer": "ipython3",
   "version": "3.12.6"
  }
 },
 "nbformat": 4,
 "nbformat_minor": 2
}
