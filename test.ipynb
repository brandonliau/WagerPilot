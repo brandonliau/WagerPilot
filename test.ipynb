{
 "cells": [
  {
   "cell_type": "code",
   "execution_count": 1,
   "metadata": {},
   "outputs": [],
   "source": [
    "import pandas as pd\n",
    "from pprint import pprint\n",
    "\n",
    "# pd.set_option('display.max_rows', None)\n",
    "%load_ext autoreload\n",
    "%autoreload 2"
   ]
  },
  {
   "cell_type": "code",
   "execution_count": null,
   "metadata": {},
   "outputs": [],
   "source": [
    "from wagerpilot.tools.config_utils import Config\n",
    "\n",
    "config = Config()\n",
    "await config.load_config('config.yml')\n",
    "pprint(config.tokens[:5])\n",
    "pprint(config.tokens[-5:])"
   ]
  },
  {
   "cell_type": "code",
   "execution_count": null,
   "metadata": {},
   "outputs": [],
   "source": [
    "from wagerpilot.tools.api_utils import get_sports\n",
    "\n",
    "sports = get_sports(config)\n",
    "for sport in sports:\n",
    "    print(sport)"
   ]
  },
  {
   "cell_type": "code",
   "execution_count": null,
   "metadata": {},
   "outputs": [],
   "source": [
    "from wagerpilot.tools.api_utils import get_events\n",
    "from wagerpilot.core.process import process_h2h_data\n",
    "\n",
    "data = get_events(config, 'americanfootball_ncaaf', 'h2h')\n",
    "event_df, bookie_df = process_h2h_data(data)\n",
    "\n",
    "print(data)\n",
    "display(event_df)\n",
    "display(bookie_df)"
   ]
  },
  {
   "cell_type": "code",
   "execution_count": null,
   "metadata": {},
   "outputs": [],
   "source": [
    "from wagerpilot.tools.api_utils import get_events\n",
    "from wagerpilot.core.process import process_h2h_data\n",
    "\n",
    "all_data = []\n",
    "for sport in sports:\n",
    "    preprocess = get_events(config, sport['key'], 'h2h')\n",
    "    if preprocess:\n",
    "        data = process_h2h_data(preprocess)\n",
    "        if data:\n",
    "            print(preprocess)\n",
    "            all_data.append(data)\n",
    "        else:\n",
    "            print(f\"Empty DataFrame : {preprocess}\")\n",
    "    else:\n",
    "        print(f\"Invalid parameter combination : ['sport_key': {sport['key']}, 'market': 'h2h']\")"
   ]
  },
  {
   "cell_type": "code",
   "execution_count": null,
   "metadata": {},
   "outputs": [],
   "source": [
    "display(all_data[1][0]) # event data\n",
    "display(all_data[1][1]) # bookie data"
   ]
  },
  {
   "cell_type": "code",
   "execution_count": null,
   "metadata": {},
   "outputs": [],
   "source": [
    "arb_events = pd.DataFrame()\n",
    "for df, _ in all_data:\n",
    "    temp = df[df['arbitrage'] == True]\n",
    "    arb_events = pd.concat([arb_events, temp], ignore_index=True)\n",
    "\n",
    "arb_events = arb_events.dropna(axis=1, how='all')\n",
    "display(arb_events)"
   ]
  }
 ],
 "metadata": {
  "kernelspec": {
   "display_name": "WagerPilot",
   "language": "python",
   "name": "python3"
  },
  "language_info": {
   "codemirror_mode": {
    "name": "ipython",
    "version": 3
   },
   "file_extension": ".py",
   "mimetype": "text/x-python",
   "name": "python",
   "nbconvert_exporter": "python",
   "pygments_lexer": "ipython3",
   "version": "3.12.6"
  }
 },
 "nbformat": 4,
 "nbformat_minor": 2
}
